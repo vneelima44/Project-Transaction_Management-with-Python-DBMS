{
 "cells": [
  {
   "cell_type": "code",
   "execution_count": 1,
   "id": "2999804f",
   "metadata": {},
   "outputs": [
    {
     "name": "stdout",
     "output_type": "stream",
     "text": [
      "Requirement already satisfied: psycopg2-binary==2.9.3 in /Library/Frameworks/Python.framework/Versions/3.12/lib/python3.12/site-packages (2.9.3)\n",
      "Note: you may need to restart the kernel to use updated packages.\n"
     ]
    }
   ],
   "source": [
    "pip install psycopg2-binary==2.9.3"
   ]
  },
  {
   "cell_type": "code",
   "execution_count": 4,
   "id": "fa948167",
   "metadata": {},
   "outputs": [
    {
     "name": "stdout",
     "output_type": "stream",
     "text": [
      "Product P100 added successfully!\n",
      "PostgreSQL connection closed.\n"
     ]
    }
   ],
   "source": [
    "import psycopg2\n",
    "\n",
    "def add_product():\n",
    "    conn = psycopg2.connect(\n",
    "        host=\"localhost\",     # Use localhost\n",
    "        database=\"postgres\",  # Replace with your actual database name\n",
    "        user=\"postgres\",      # PostgreSQL username\n",
    "        password=\"Champion@123\"     # Password for postgres user\n",
    "    )\n",
    "    \n",
    "    try:\n",
    "        conn.set_isolation_level(3)  # SERIALIZABLE isolation level\n",
    "        conn.autocommit = False      # Disable autocommit\n",
    "        cur = conn.cursor()\n",
    "\n",
    "        # Transaction 1: Add product (P100, cd, 5) in Product\n",
    "        cur.execute(\"\"\"\n",
    "            INSERT INTO product (prod_id, pname, price) \n",
    "            VALUES ('P100', 'cd', 5)\n",
    "            ON CONFLICT (prod_id) DO NOTHING\n",
    "        \"\"\")\n",
    "\n",
    "        # Commit the transaction\n",
    "        conn.commit()\n",
    "        print(\"Product P100 added successfully!\")\n",
    "\n",
    "    except (Exception, psycopg2.DatabaseError) as error:\n",
    "        print(\"Error occurred:\", error)\n",
    "        conn.rollback()  # Rollback in case of error\n",
    "\n",
    "    finally:\n",
    "        cur.close()\n",
    "        conn.close()\n",
    "        print(\"PostgreSQL connection closed.\")\n",
    "\n",
    "add_product()\n"
   ]
  },
  {
   "cell_type": "code",
   "execution_count": 5,
   "id": "e0d6bbe2",
   "metadata": {},
   "outputs": [
    {
     "name": "stdout",
     "output_type": "stream",
     "text": [
      "Stock for Product P100 added in Depot D2.\n",
      "PostgreSQL connection closed.\n"
     ]
    }
   ],
   "source": [
    "def add_stock_for_product():\n",
    "    conn = psycopg2.connect(\n",
    "        host=\"localhost\",\n",
    "        database=\"postgres\",\n",
    "        user=\"postgres\",\n",
    "        password=\"Champion@123\"\n",
    "    )\n",
    "\n",
    "    try:\n",
    "        conn.set_isolation_level(3)\n",
    "        conn.autocommit = False\n",
    "        cur = conn.cursor()\n",
    "\n",
    "        # Transaction 2: Add (P100, D2, 50) in Stock\n",
    "        cur.execute(\"\"\"\n",
    "            INSERT INTO stock (prod_id, dep_id, quantity) \n",
    "            VALUES ('P100', 'D2', 50)\n",
    "            ON CONFLICT (prod_id, dep_id) DO NOTHING\n",
    "        \"\"\")\n",
    "\n",
    "        # Commit the transaction\n",
    "        conn.commit()\n",
    "        print(\"Stock for Product P100 added in Depot D2.\")\n",
    "\n",
    "    except (Exception, psycopg2.DatabaseError) as error:\n",
    "        print(\"Error occurred:\", error)\n",
    "        conn.rollback()\n",
    "\n",
    "    finally:\n",
    "        cur.close()\n",
    "        conn.close()\n",
    "        print(\"PostgreSQL connection closed.\")\n",
    "\n",
    "add_stock_for_product()\n"
   ]
  },
  {
   "cell_type": "code",
   "execution_count": 9,
   "id": "9a389a59",
   "metadata": {},
   "outputs": [
    {
     "name": "stdout",
     "output_type": "stream",
     "text": [
      "Depot D100 added successfully!\n",
      "PostgreSQL connection closed.\n"
     ]
    }
   ],
   "source": [
    "def add_depot():\n",
    "    conn = psycopg2.connect(\n",
    "        host=\"localhost\",\n",
    "        database=\"postgres\",\n",
    "        user=\"postgres\",\n",
    "        password=\"Champion@123\"\n",
    "    )\n",
    "\n",
    "    try:\n",
    "        conn.set_isolation_level(3)\n",
    "        conn.autocommit = False\n",
    "        cur = conn.cursor()\n",
    "\n",
    "        # Transaction 3: Add depot (D100, Chicago, 100) in Depot\n",
    "        cur.execute(\"\"\"\n",
    "            INSERT INTO depot (dep_id, addr, volume) \n",
    "            VALUES ('D100', 'Chicago', 100)\n",
    "            ON CONFLICT (dep_id) DO NOTHING\n",
    "        \"\"\")\n",
    "\n",
    "        # Commit the transaction\n",
    "        conn.commit()\n",
    "        print(\"Depot D100 added successfully!\")\n",
    "\n",
    "    except (Exception, psycopg2.DatabaseError) as error:\n",
    "        print(\"Error occurred:\", error)\n",
    "        conn.rollback()\n",
    "\n",
    "    finally:\n",
    "        cur.close()\n",
    "        conn.close()\n",
    "        print(\"PostgreSQL connection closed.\")\n",
    "\n",
    "add_depot()\n"
   ]
  },
  {
   "cell_type": "code",
   "execution_count": 11,
   "id": "6097774b",
   "metadata": {},
   "outputs": [
    {
     "name": "stdout",
     "output_type": "stream",
     "text": [
      "Stock for Product P1 added in Depot D100.\n",
      "PostgreSQL connection closed.\n"
     ]
    }
   ],
   "source": [
    "def add_stock_for_p1_d100():\n",
    "    conn = psycopg2.connect(\n",
    "        host=\"localhost\",\n",
    "        database=\"postgres\",\n",
    "        user=\"postgres\",\n",
    "        password=\"Champion@123\"\n",
    "    )\n",
    "\n",
    "    try:\n",
    "        conn.set_isolation_level(3)\n",
    "        conn.autocommit = False\n",
    "        cur = conn.cursor()\n",
    "\n",
    "        # Transaction 4: Add (P1, D100, 100) in Stock\n",
    "        cur.execute(\"\"\"\n",
    "            INSERT INTO stock (prod_id, dep_id, quantity) \n",
    "            VALUES ('P1', 'D100', 100)\n",
    "            ON CONFLICT (prod_id, dep_id) DO NOTHING\n",
    "        \"\"\")\n",
    "\n",
    "        # Commit the transaction\n",
    "        conn.commit()\n",
    "        print(\"Stock for Product P1 added in Depot D100.\")\n",
    "\n",
    "    except (Exception, psycopg2.DatabaseError) as error:\n",
    "        print(\"Error occurred:\", error)\n",
    "        conn.rollback()\n",
    "\n",
    "    finally:\n",
    "        cur.close()\n",
    "        conn.close()\n",
    "        print(\"PostgreSQL connection closed.\")\n",
    "\n",
    "add_stock_for_p1_d100()\n"
   ]
  },
  {
   "cell_type": "code",
   "execution_count": 13,
   "id": "1ce591ca",
   "metadata": {},
   "outputs": [
    {
     "name": "stdout",
     "output_type": "stream",
     "text": [
      "Product P1 renamed to PP1.\n",
      "PostgreSQL connection closed.\n"
     ]
    }
   ],
   "source": [
    "def update_product_name():\n",
    "    conn = psycopg2.connect(\n",
    "        host=\"localhost\",\n",
    "        database=\"postgres\",\n",
    "        user=\"postgres\",\n",
    "        password=\"Champion@123\"\n",
    "    )\n",
    "\n",
    "    try:\n",
    "        conn.set_isolation_level(3)\n",
    "        conn.autocommit = False\n",
    "        cur = conn.cursor()\n",
    "\n",
    "        # Transaction 5: Change product P1 name to PP1 in Product table\n",
    "        cur.execute(\"\"\"\n",
    "            UPDATE product SET prod_id = 'PP1' WHERE prod_id = 'P1'\n",
    "        \"\"\")\n",
    "\n",
    "        # Commit the transaction\n",
    "        conn.commit()\n",
    "        print(\"Product P1 renamed to PP1.\")\n",
    "\n",
    "    except (Exception, psycopg2.DatabaseError) as error:\n",
    "        print(\"Error occurred:\", error)\n",
    "        conn.rollback()\n",
    "\n",
    "    finally:\n",
    "        cur.close()\n",
    "        conn.close()\n",
    "        print(\"PostgreSQL connection closed.\")\n",
    "\n",
    "update_product_name()\n"
   ]
  },
  {
   "cell_type": "code",
   "execution_count": 14,
   "id": "5fe63606",
   "metadata": {},
   "outputs": [
    {
     "name": "stdout",
     "output_type": "stream",
     "text": [
      "Depot D1 renamed to DD1.\n",
      "PostgreSQL connection closed.\n"
     ]
    }
   ],
   "source": [
    "def update_depot_name():\n",
    "    conn = psycopg2.connect(\n",
    "        host=\"localhost\",\n",
    "        database=\"postgres\",\n",
    "        user=\"postgres\",\n",
    "        password=\"Champion@123\"\n",
    "    )\n",
    "\n",
    "    try:\n",
    "        conn.set_isolation_level(3)\n",
    "        conn.autocommit = False\n",
    "        cur = conn.cursor()\n",
    "\n",
    "        # Transaction 6: Change depot D1 name to DD1 in Depot table\n",
    "        cur.execute(\"\"\"\n",
    "            UPDATE depot SET dep_id = 'DD1' WHERE dep_id = 'D1'\n",
    "        \"\"\")\n",
    "\n",
    "        # Commit the transaction\n",
    "        conn.commit()\n",
    "        print(\"Depot D1 renamed to DD1.\")\n",
    "\n",
    "    except (Exception, psycopg2.DatabaseError) as error:\n",
    "        print(\"Error occurred:\", error)\n",
    "        conn.rollback()\n",
    "\n",
    "    finally:\n",
    "        cur.close()\n",
    "        conn.close()\n",
    "        print(\"PostgreSQL connection closed.\")\n",
    "\n",
    "update_depot_name()\n"
   ]
  },
  {
   "cell_type": "code",
   "execution_count": 15,
   "id": "fdb1db2c",
   "metadata": {},
   "outputs": [
    {
     "name": "stdout",
     "output_type": "stream",
     "text": [
      "Product PP1 deleted successfully.\n",
      "PostgreSQL connection closed.\n"
     ]
    }
   ],
   "source": [
    "def delete_product():\n",
    "    conn = psycopg2.connect(\n",
    "        host=\"localhost\",\n",
    "        database=\"postgres\",\n",
    "        user=\"postgres\",\n",
    "        password=\"Champion@123\"\n",
    "    )\n",
    "\n",
    "    try:\n",
    "        conn.set_isolation_level(3)\n",
    "        conn.autocommit = False\n",
    "        cur = conn.cursor()\n",
    "\n",
    "        # Transaction 7: Delete product PP1 from Product and Stock (cascade delete handles Stock)\n",
    "        cur.execute(\"\"\"\n",
    "            DELETE FROM product WHERE prod_id = 'PP1'\n",
    "        \"\"\")\n",
    "\n",
    "        # Commit the transaction\n",
    "        conn.commit()\n",
    "        print(\"Product PP1 deleted successfully.\")\n",
    "\n",
    "    except (Exception, psycopg2.DatabaseError) as error:\n",
    "        print(\"Error occurred:\", error)\n",
    "        conn.rollback()\n",
    "\n",
    "    finally:\n",
    "        cur.close()\n",
    "        conn.close()\n",
    "        print(\"PostgreSQL connection closed.\")\n",
    "\n",
    "delete_product()\n"
   ]
  },
  {
   "cell_type": "code",
   "execution_count": 16,
   "id": "5d0e5965",
   "metadata": {},
   "outputs": [
    {
     "name": "stdout",
     "output_type": "stream",
     "text": [
      "Depot DD1 deleted successfully.\n",
      "PostgreSQL connection closed.\n"
     ]
    }
   ],
   "source": [
    "def delete_depot():\n",
    "    conn = psycopg2.connect(\n",
    "        host=\"localhost\",\n",
    "        database=\"postgres\",\n",
    "        user=\"postgres\",\n",
    "        password=\"Champion@123\"\n",
    "    )\n",
    "\n",
    "    try:\n",
    "        conn.set_isolation_level(3)\n",
    "        conn.autocommit = False\n",
    "        cur = conn.cursor()\n",
    "\n",
    "        # Transaction 8: Delete depot DD1 from Depot and Stock (cascade delete handles Stock)\n",
    "        cur.execute(\"\"\"\n",
    "            DELETE FROM depot WHERE dep_id = 'DD1'\n",
    "        \"\"\")\n",
    "\n",
    "        # Commit the transaction\n",
    "        conn.commit()\n",
    "        print(\"Depot DD1 deleted successfully.\")\n",
    "\n",
    "    except (Exception, psycopg2.DatabaseError) as error:\n",
    "        print(\"Error occurred:\", error)\n",
    "        conn.rollback()\n",
    "\n",
    "    finally:\n",
    "        cur.close()\n",
    "        conn.close()\n",
    "        print(\"PostgreSQL connection closed.\")\n",
    "\n",
    "delete_depot()\n"
   ]
  },
  {
   "cell_type": "code",
   "execution_count": null,
   "id": "40420f0c",
   "metadata": {},
   "outputs": [],
   "source": []
  }
 ],
 "metadata": {
  "kernelspec": {
   "display_name": "Python 3 (ipykernel)",
   "language": "python",
   "name": "python3"
  },
  "language_info": {
   "codemirror_mode": {
    "name": "ipython",
    "version": 3
   },
   "file_extension": ".py",
   "mimetype": "text/x-python",
   "name": "python",
   "nbconvert_exporter": "python",
   "pygments_lexer": "ipython3",
   "version": "3.12.6"
  }
 },
 "nbformat": 4,
 "nbformat_minor": 5
}
